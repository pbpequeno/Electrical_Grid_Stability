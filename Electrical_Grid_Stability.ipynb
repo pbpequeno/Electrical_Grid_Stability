{
  "nbformat": 4,
  "nbformat_minor": 0,
  "metadata": {
    "colab": {
      "name": "Electrical Grid Stability.ipynb",
      "provenance": [],
      "collapsed_sections": []
    },
    "kernelspec": {
      "name": "python3",
      "display_name": "Python 3"
    }
  },
  "cells": [
    {
      "cell_type": "code",
      "metadata": {
        "id": "1GFn8SRgAQ2k",
        "colab_type": "code",
        "colab": {}
      },
      "source": [
        "import pandas as pd\n",
        "import numpy as np\n",
        "import sklearn\n",
        "from sklearn.model_selection import train_test_split\n",
        "from sklearn.impute import SimpleImputer\n",
        "from sklearn.ensemble import RandomForestClassifier\n",
        "from sklearn.metrics import confusion_matrix\n",
        "from sklearn.metrics import accuracy_score\n",
        "from sklearn.metrics import roc_auc_score\n",
        "from sklearn.metrics import roc_curve\n",
        "from sklearn.metrics import average_precision_score\n",
        "from sklearn.metrics import cohen_kappa_score"
      ],
      "execution_count": 0,
      "outputs": []
    },
    {
      "cell_type": "code",
      "metadata": {
        "id": "qySuQUZ6AS88",
        "colab_type": "code",
        "colab": {}
      },
      "source": [
        "# Reading csv file\n",
        "df = pd.read_csv('Data_for_UCI_named.csv')"
      ],
      "execution_count": 0,
      "outputs": []
    },
    {
      "cell_type": "code",
      "metadata": {
        "id": "bQPtcYgzAvCn",
        "colab_type": "code",
        "colab": {}
      },
      "source": [
        "# Separating the label attribute from the dataframe\n",
        "X = df.drop('stabf',axis=1)\n",
        "y = df['stabf']"
      ],
      "execution_count": 0,
      "outputs": []
    },
    {
      "cell_type": "code",
      "metadata": {
        "id": "eCrFPUTZBxZG",
        "colab_type": "code",
        "colab": {}
      },
      "source": [
        "# Turning the categorical attribute into numeric\n",
        "y = pd.get_dummies(y)\n",
        "y = y.drop('unstable',axis=1)\n"
      ],
      "execution_count": 0,
      "outputs": []
    },
    {
      "cell_type": "code",
      "metadata": {
        "id": "d_M8EmqbBsL4",
        "colab_type": "code",
        "colab": {}
      },
      "source": [
        "# Separating the dataframe in training and testing\n",
        "X_train, X_test, y_train, y_test = train_test_split(\n",
        "    X, y, test_size=0.33, random_state=42)"
      ],
      "execution_count": 0,
      "outputs": []
    },
    {
      "cell_type": "code",
      "metadata": {
        "id": "6zQYg54xBu4P",
        "colab_type": "code",
        "outputId": "2d29041b-4d68-4105-c095-f348d09351b2",
        "colab": {
          "base_uri": "https://localhost:8080/",
          "height": 70
        }
      },
      "source": [
        "# Training the algorithm\n",
        "clf = RandomForestClassifier(max_depth=10, random_state=0,n_estimators=100)\n",
        "clf.fit(X_train,y_train);"
      ],
      "execution_count": 0,
      "outputs": [
        {
          "output_type": "stream",
          "text": [
            "/usr/local/lib/python3.6/dist-packages/ipykernel_launcher.py:2: DataConversionWarning: A column-vector y was passed when a 1d array was expected. Please change the shape of y to (n_samples,), for example using ravel().\n",
            "  \n"
          ],
          "name": "stderr"
        }
      ]
    },
    {
      "cell_type": "code",
      "metadata": {
        "id": "5LSDSoJEGHFi",
        "colab_type": "code",
        "colab": {}
      },
      "source": [
        "# Making the prediction\n",
        "y_pred = clf.predict(X_test)"
      ],
      "execution_count": 0,
      "outputs": []
    },
    {
      "cell_type": "code",
      "metadata": {
        "id": "dfr3613PF2D5",
        "colab_type": "code",
        "outputId": "d9f0e14b-4558-4abf-afd7-a0b725818bd1",
        "colab": {
          "base_uri": "https://localhost:8080/",
          "height": 50
        }
      },
      "source": [
        "confusion_matrix(y_test,y_pred)"
      ],
      "execution_count": 0,
      "outputs": [
        {
          "output_type": "execute_result",
          "data": {
            "text/plain": [
              "array([[2139,    1],\n",
              "       [   0, 1160]])"
            ]
          },
          "metadata": {
            "tags": []
          },
          "execution_count": 99
        }
      ]
    },
    {
      "cell_type": "code",
      "metadata": {
        "id": "1ah8JNnqF2G7",
        "colab_type": "code",
        "outputId": "cc1a72ad-f0c2-44bb-9eae-480b8d4486e6",
        "colab": {
          "base_uri": "https://localhost:8080/",
          "height": 33
        }
      },
      "source": [
        "accuracy_score(y_test,y_pred)"
      ],
      "execution_count": 0,
      "outputs": [
        {
          "output_type": "execute_result",
          "data": {
            "text/plain": [
              "0.9996969696969698"
            ]
          },
          "metadata": {
            "tags": []
          },
          "execution_count": 100
        }
      ]
    },
    {
      "cell_type": "code",
      "metadata": {
        "id": "7QMOCUsjF2Ja",
        "colab_type": "code",
        "outputId": "0f6024b7-f5ec-4715-c146-5a55e70411b9",
        "colab": {
          "base_uri": "https://localhost:8080/",
          "height": 33
        }
      },
      "source": [
        "cohen_kappa_score(y_test,y_pred)"
      ],
      "execution_count": 0,
      "outputs": [
        {
          "output_type": "execute_result",
          "data": {
            "text/plain": [
              "0.9993354518323405"
            ]
          },
          "metadata": {
            "tags": []
          },
          "execution_count": 101
        }
      ]
    },
    {
      "cell_type": "code",
      "metadata": {
        "id": "ZlZEXcrNF2Pw",
        "colab_type": "code",
        "colab": {}
      },
      "source": [
        ""
      ],
      "execution_count": 0,
      "outputs": []
    }
  ]
}